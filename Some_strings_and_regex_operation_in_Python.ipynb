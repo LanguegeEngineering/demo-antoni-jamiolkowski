{
  "nbformat": 4,
  "nbformat_minor": 0,
  "metadata": {
    "colab": {
      "name": "Some_strings_and_regex_operation_in_Python.ipynb",
      "provenance": []
    },
    "kernelspec": {
      "name": "python3",
      "display_name": "Python 3"
    }
  },
  "cells": [
    {
      "cell_type": "markdown",
      "metadata": {
        "id": "Nn885eRyu7ND",
        "colab_type": "text"
      },
      "source": [
        "### Easy string manipulation"
      ]
    },
    {
      "cell_type": "code",
      "metadata": {
        "id": "7CPBUMfm7Ljn",
        "colab_type": "code",
        "colab": {
          "base_uri": "https://localhost:8080/",
          "height": 34
        },
        "outputId": "2a28389e-246f-44ff-aa23-369f6074f405"
      },
      "source": [
        "x = 'a string'\n",
        "y = \"a string\"\n",
        "if x == y:\n",
        "    print(\"they are the same\")"
      ],
      "execution_count": 1,
      "outputs": [
        {
          "output_type": "stream",
          "text": [
            "they are the same\n"
          ],
          "name": "stdout"
        }
      ]
    },
    {
      "cell_type": "code",
      "metadata": {
        "id": "Ani3HhQk7LkF",
        "colab_type": "code",
        "colab": {}
      },
      "source": [
        "fox = \"tHe qUICk bROWn fOx.\""
      ],
      "execution_count": 0,
      "outputs": []
    },
    {
      "cell_type": "markdown",
      "metadata": {
        "id": "Lr1xNTks7LkN",
        "colab_type": "text"
      },
      "source": [
        "To convert the entire string into upper-case or lower-case, you can use the ``upper()`` or ``lower()`` methods respectively:"
      ]
    },
    {
      "cell_type": "code",
      "metadata": {
        "id": "hLEjP_-r7LkP",
        "colab_type": "code",
        "colab": {
          "base_uri": "https://localhost:8080/",
          "height": 34
        },
        "outputId": "86499cb1-c5a6-4284-926c-ad019b15db19"
      },
      "source": [
        "fox.upper()"
      ],
      "execution_count": 4,
      "outputs": [
        {
          "output_type": "execute_result",
          "data": {
            "text/plain": [
              "'THE QUICK BROWN FOX.'"
            ]
          },
          "metadata": {
            "tags": []
          },
          "execution_count": 4
        }
      ]
    },
    {
      "cell_type": "code",
      "metadata": {
        "id": "J_sWSEtc7LkV",
        "colab_type": "code",
        "colab": {
          "base_uri": "https://localhost:8080/",
          "height": 34
        },
        "outputId": "7f62372e-b8b1-4c2d-f3ca-0a691b92e853"
      },
      "source": [
        "fox.lower()"
      ],
      "execution_count": 5,
      "outputs": [
        {
          "output_type": "execute_result",
          "data": {
            "text/plain": [
              "'the quick brown fox.'"
            ]
          },
          "metadata": {
            "tags": []
          },
          "execution_count": 5
        }
      ]
    },
    {
      "cell_type": "markdown",
      "metadata": {
        "id": "gDJiQgTK7LkZ",
        "colab_type": "text"
      },
      "source": [
        "A common formatting need is to capitalize just the first letter of each word, or perhaps the first letter of each sentence.\n",
        "This can be done with the ``title()`` and ``capitalize()`` methods:"
      ]
    },
    {
      "cell_type": "code",
      "metadata": {
        "id": "-VFGL3Hr7Lka",
        "colab_type": "code",
        "colab": {
          "base_uri": "https://localhost:8080/",
          "height": 34
        },
        "outputId": "dd18e8f7-d2e8-47b1-ae51-4103b6196b57"
      },
      "source": [
        "fox.title()"
      ],
      "execution_count": 6,
      "outputs": [
        {
          "output_type": "execute_result",
          "data": {
            "text/plain": [
              "'The Quick Brown Fox.'"
            ]
          },
          "metadata": {
            "tags": []
          },
          "execution_count": 6
        }
      ]
    },
    {
      "cell_type": "code",
      "metadata": {
        "id": "cV3ghJce7Lkr",
        "colab_type": "code",
        "colab": {
          "base_uri": "https://localhost:8080/",
          "height": 34
        },
        "outputId": "c39fde25-676a-438c-b9ae-4ec5c3272ad2"
      },
      "source": [
        "fox.capitalize()"
      ],
      "execution_count": 7,
      "outputs": [
        {
          "output_type": "execute_result",
          "data": {
            "text/plain": [
              "'The quick brown fox.'"
            ]
          },
          "metadata": {
            "tags": []
          },
          "execution_count": 7
        }
      ]
    },
    {
      "cell_type": "markdown",
      "metadata": {
        "id": "2CjcAH_47Lkw",
        "colab_type": "text"
      },
      "source": [
        "The cases can be swapped using the ``swapcase()`` method:"
      ]
    },
    {
      "cell_type": "code",
      "metadata": {
        "id": "9VqNWnnG7Lkx",
        "colab_type": "code",
        "colab": {
          "base_uri": "https://localhost:8080/",
          "height": 34
        },
        "outputId": "22600028-5d3a-4228-9033-688e83e5c8d5"
      },
      "source": [
        "fox.swapcase()"
      ],
      "execution_count": 8,
      "outputs": [
        {
          "output_type": "execute_result",
          "data": {
            "text/plain": [
              "'ThE QuicK BrowN FoX.'"
            ]
          },
          "metadata": {
            "tags": []
          },
          "execution_count": 8
        }
      ]
    },
    {
      "cell_type": "code",
      "metadata": {
        "id": "VXnRg_RV7Lk8",
        "colab_type": "code",
        "colab": {
          "base_uri": "https://localhost:8080/",
          "height": 34
        },
        "outputId": "558883c0-f13e-4786-b3ed-1b7619f71d32"
      },
      "source": [
        "line = '         this is the content         '\n",
        "line.strip()"
      ],
      "execution_count": 9,
      "outputs": [
        {
          "output_type": "execute_result",
          "data": {
            "text/plain": [
              "'this is the content'"
            ]
          },
          "metadata": {
            "tags": []
          },
          "execution_count": 9
        }
      ]
    },
    {
      "cell_type": "markdown",
      "metadata": {
        "id": "JGI2dfcr7LlA",
        "colab_type": "text"
      },
      "source": [
        "To remove just space to the right or left, use ``rstrip()`` or ``lstrip()`` respectively:"
      ]
    },
    {
      "cell_type": "code",
      "metadata": {
        "id": "wNtxgkpd7LlC",
        "colab_type": "code",
        "colab": {
          "base_uri": "https://localhost:8080/",
          "height": 34
        },
        "outputId": "2a4567bc-e546-4838-c0be-d318f47d4d8a"
      },
      "source": [
        "line.rstrip()"
      ],
      "execution_count": 10,
      "outputs": [
        {
          "output_type": "execute_result",
          "data": {
            "text/plain": [
              "'         this is the content'"
            ]
          },
          "metadata": {
            "tags": []
          },
          "execution_count": 10
        }
      ]
    },
    {
      "cell_type": "code",
      "metadata": {
        "id": "mqAp9fhT7LlH",
        "colab_type": "code",
        "colab": {
          "base_uri": "https://localhost:8080/",
          "height": 34
        },
        "outputId": "a78ac7b8-9153-45bf-a7a2-3d173506e27b"
      },
      "source": [
        "line.lstrip()"
      ],
      "execution_count": 11,
      "outputs": [
        {
          "output_type": "execute_result",
          "data": {
            "text/plain": [
              "'this is the content         '"
            ]
          },
          "metadata": {
            "tags": []
          },
          "execution_count": 11
        }
      ]
    },
    {
      "cell_type": "markdown",
      "metadata": {
        "id": "0Y1XeOHR7LlK",
        "colab_type": "text"
      },
      "source": [
        "To remove characters other than spaces, you can pass the desired character to the ``strip()`` method:"
      ]
    },
    {
      "cell_type": "code",
      "metadata": {
        "id": "4ZoSwbiO7LlL",
        "colab_type": "code",
        "colab": {
          "base_uri": "https://localhost:8080/",
          "height": 34
        },
        "outputId": "edec414a-1a25-4ff5-deb2-d8bb235324df"
      },
      "source": [
        "num = \"000000000000435\"\n",
        "num.strip('0')"
      ],
      "execution_count": 12,
      "outputs": [
        {
          "output_type": "execute_result",
          "data": {
            "text/plain": [
              "'435'"
            ]
          },
          "metadata": {
            "tags": []
          },
          "execution_count": 12
        }
      ]
    },
    {
      "cell_type": "code",
      "metadata": {
        "id": "fDyZR0R97LlX",
        "colab_type": "code",
        "colab": {
          "base_uri": "https://localhost:8080/",
          "height": 34
        },
        "outputId": "5946f66c-46d6-466e-8633-4f0130dfbc1f"
      },
      "source": [
        "line = 'the quick brown fox jumped over a lazy dog'\n",
        "line.find('fox')"
      ],
      "execution_count": 13,
      "outputs": [
        {
          "output_type": "execute_result",
          "data": {
            "text/plain": [
              "16"
            ]
          },
          "metadata": {
            "tags": []
          },
          "execution_count": 13
        }
      ]
    },
    {
      "cell_type": "code",
      "metadata": {
        "id": "BIArRU7l7Llh",
        "colab_type": "code",
        "colab": {
          "base_uri": "https://localhost:8080/",
          "height": 34
        },
        "outputId": "42faf3d6-9e0c-4f22-e99c-0828e6119a74"
      },
      "source": [
        "line.index('fox')"
      ],
      "execution_count": 14,
      "outputs": [
        {
          "output_type": "execute_result",
          "data": {
            "text/plain": [
              "16"
            ]
          },
          "metadata": {
            "tags": []
          },
          "execution_count": 14
        }
      ]
    },
    {
      "cell_type": "code",
      "metadata": {
        "id": "D58dXOqH7Llb",
        "colab_type": "code",
        "colab": {
          "base_uri": "https://localhost:8080/",
          "height": 34
        },
        "outputId": "86134716-fe5e-4b0e-a222-b80e7ca10589"
      },
      "source": [
        "line[16:21]"
      ],
      "execution_count": 15,
      "outputs": [
        {
          "output_type": "execute_result",
          "data": {
            "text/plain": [
              "'fox j'"
            ]
          },
          "metadata": {
            "tags": []
          },
          "execution_count": 15
        }
      ]
    },
    {
      "cell_type": "markdown",
      "metadata": {
        "id": "h85MmPIU7Llm",
        "colab_type": "text"
      },
      "source": [
        "The only difference between ``find()`` and ``index()`` is their behavior when the search string is not found; ``find()`` returns ``-1``, while ``index()`` raises a ``ValueError``:"
      ]
    },
    {
      "cell_type": "code",
      "metadata": {
        "id": "_1KC6QOU7Lln",
        "colab_type": "code",
        "colab": {
          "base_uri": "https://localhost:8080/",
          "height": 34
        },
        "outputId": "247635cd-654c-4db8-ced9-07f567a55614"
      },
      "source": [
        "line.find('bear')"
      ],
      "execution_count": 16,
      "outputs": [
        {
          "output_type": "execute_result",
          "data": {
            "text/plain": [
              "-1"
            ]
          },
          "metadata": {
            "tags": []
          },
          "execution_count": 16
        }
      ]
    },
    {
      "cell_type": "code",
      "metadata": {
        "id": "L-3u--pe7Lls",
        "colab_type": "code",
        "colab": {
          "base_uri": "https://localhost:8080/",
          "height": 167
        },
        "outputId": "5d766fa7-8907-4792-d566-29e6671e4d1c"
      },
      "source": [
        "line.index('bear')"
      ],
      "execution_count": 17,
      "outputs": [
        {
          "output_type": "error",
          "ename": "ValueError",
          "evalue": "ignored",
          "traceback": [
            "\u001b[0;31m---------------------------------------------------------------------------\u001b[0m",
            "\u001b[0;31mValueError\u001b[0m                                Traceback (most recent call last)",
            "\u001b[0;32m<ipython-input-17-adf599eb4c79>\u001b[0m in \u001b[0;36m<module>\u001b[0;34m()\u001b[0m\n\u001b[0;32m----> 1\u001b[0;31m \u001b[0mline\u001b[0m\u001b[0;34m.\u001b[0m\u001b[0mindex\u001b[0m\u001b[0;34m(\u001b[0m\u001b[0;34m'bear'\u001b[0m\u001b[0;34m)\u001b[0m\u001b[0;34m\u001b[0m\u001b[0;34m\u001b[0m\u001b[0m\n\u001b[0m",
            "\u001b[0;31mValueError\u001b[0m: substring not found"
          ]
        }
      ]
    },
    {
      "cell_type": "code",
      "metadata": {
        "id": "broQs8Q27Ll-",
        "colab_type": "code",
        "colab": {
          "base_uri": "https://localhost:8080/",
          "height": 34
        },
        "outputId": "2b2ab27e-4bf5-48ba-9382-916e7dd1a8dd"
      },
      "source": [
        "line.partition('fox')"
      ],
      "execution_count": 18,
      "outputs": [
        {
          "output_type": "execute_result",
          "data": {
            "text/plain": [
              "('the quick brown ', 'fox', ' jumped over a lazy dog')"
            ]
          },
          "metadata": {
            "tags": []
          },
          "execution_count": 18
        }
      ]
    },
    {
      "cell_type": "markdown",
      "metadata": {
        "id": "52RL7jri7Ll_",
        "colab_type": "text"
      },
      "source": [
        "The ``rpartition()`` method is similar, but searches from the right of the string.\n",
        "\n",
        "The ``split()`` method is perhaps more useful; it finds *all* instances of the split-point and returns the substrings in between.\n",
        "The default is to split on any whitespace, returning a list of the individual words in a string:"
      ]
    },
    {
      "cell_type": "code",
      "metadata": {
        "id": "XgNMTET57LmA",
        "colab_type": "code",
        "colab": {
          "base_uri": "https://localhost:8080/",
          "height": 34
        },
        "outputId": "1585064b-f54d-48ea-aec9-c381a2f4b1e5"
      },
      "source": [
        "line_list = line.split()\n",
        "print(line_list)"
      ],
      "execution_count": 19,
      "outputs": [
        {
          "output_type": "stream",
          "text": [
            "['the', 'quick', 'brown', 'fox', 'jumped', 'over', 'a', 'lazy', 'dog']\n"
          ],
          "name": "stdout"
        }
      ]
    },
    {
      "cell_type": "code",
      "metadata": {
        "id": "UL5ebfOXzAN-",
        "colab_type": "code",
        "colab": {
          "base_uri": "https://localhost:8080/",
          "height": 34
        },
        "outputId": "d7c4e9d4-672e-45f4-a349-cff442b76ec0"
      },
      "source": [
        "print(line_list[1])"
      ],
      "execution_count": 20,
      "outputs": [
        {
          "output_type": "stream",
          "text": [
            "quick\n"
          ],
          "name": "stdout"
        }
      ]
    },
    {
      "cell_type": "markdown",
      "metadata": {
        "id": "oG-08k1P7LmC",
        "colab_type": "text"
      },
      "source": [
        "A related method is ``splitlines()``, which splits on newline characters.\n",
        "Let's do this with a Haiku, popularly attributed to the 17th-century poet Matsuo Bashō:"
      ]
    },
    {
      "cell_type": "code",
      "metadata": {
        "id": "Xhoq3dov7LmD",
        "colab_type": "code",
        "colab": {
          "base_uri": "https://localhost:8080/",
          "height": 34
        },
        "outputId": "43b33c0d-f4cb-49fa-c61a-f15434e50677"
      },
      "source": [
        "haiku = \"\"\"matsushima-ya\n",
        "aah matsushima-ya\n",
        "matsushima-ya\"\"\"\n",
        "\n",
        "haiku.splitlines()"
      ],
      "execution_count": 21,
      "outputs": [
        {
          "output_type": "execute_result",
          "data": {
            "text/plain": [
              "['matsushima-ya', 'aah matsushima-ya', 'matsushima-ya']"
            ]
          },
          "metadata": {
            "tags": []
          },
          "execution_count": 21
        }
      ]
    },
    {
      "cell_type": "markdown",
      "metadata": {
        "id": "nvAwkkOY7LmF",
        "colab_type": "text"
      },
      "source": [
        "Note that if you would like to undo a ``split()``, you can use the ``join()`` method, which returns a string built from a splitpoint and an iterable:"
      ]
    },
    {
      "cell_type": "code",
      "metadata": {
        "id": "x6dnl1We7LmG",
        "colab_type": "code",
        "colab": {
          "base_uri": "https://localhost:8080/",
          "height": 34
        },
        "outputId": "1e749c8d-2116-49a3-ed1d-db6d3b8b18eb"
      },
      "source": [
        "'--'.join(['1', '2', '3'])"
      ],
      "execution_count": 22,
      "outputs": [
        {
          "output_type": "execute_result",
          "data": {
            "text/plain": [
              "'1--2--3'"
            ]
          },
          "metadata": {
            "tags": []
          },
          "execution_count": 22
        }
      ]
    },
    {
      "cell_type": "markdown",
      "metadata": {
        "id": "1AV-VUtK7LmI",
        "colab_type": "text"
      },
      "source": [
        "A common pattern is to use the special character ``\"\\n\"`` (newline) to join together lines that have been previously split, and recover the input:"
      ]
    },
    {
      "cell_type": "code",
      "metadata": {
        "id": "iPGNvfi17LmI",
        "colab_type": "code",
        "colab": {
          "base_uri": "https://localhost:8080/",
          "height": 69
        },
        "outputId": "85a4e4f0-58eb-4fdd-b924-ebe57dd3b9b1"
      },
      "source": [
        "print(\"\\n\".join(['matsushima-ya', 'aah matsushima-ya', 'matsushima-ya']))"
      ],
      "execution_count": 23,
      "outputs": [
        {
          "output_type": "stream",
          "text": [
            "matsushima-ya\n",
            "aah matsushima-ya\n",
            "matsushima-ya\n"
          ],
          "name": "stdout"
        }
      ]
    },
    {
      "cell_type": "code",
      "metadata": {
        "id": "ATNMLZ1c7LmK",
        "colab_type": "code",
        "colab": {
          "base_uri": "https://localhost:8080/",
          "height": 34
        },
        "outputId": "ff334da8-577b-4493-e52e-a3b1eb83b343"
      },
      "source": [
        "pi = 3.14159\n",
        "str(pi)"
      ],
      "execution_count": 24,
      "outputs": [
        {
          "output_type": "execute_result",
          "data": {
            "text/plain": [
              "'3.14159'"
            ]
          },
          "metadata": {
            "tags": []
          },
          "execution_count": 24
        }
      ]
    },
    {
      "cell_type": "code",
      "metadata": {
        "id": "IAXuKoSj7LmL",
        "colab_type": "code",
        "colab": {
          "base_uri": "https://localhost:8080/",
          "height": 167
        },
        "outputId": "0a538139-e3fe-4b56-fcf0-767d8acfd0af"
      },
      "source": [
        "print (\"The value of pi is \" + pi)"
      ],
      "execution_count": 25,
      "outputs": [
        {
          "output_type": "error",
          "ename": "TypeError",
          "evalue": "ignored",
          "traceback": [
            "\u001b[0;31m---------------------------------------------------------------------------\u001b[0m",
            "\u001b[0;31mTypeError\u001b[0m                                 Traceback (most recent call last)",
            "\u001b[0;32m<ipython-input-25-b30b7a58ab9f>\u001b[0m in \u001b[0;36m<module>\u001b[0;34m()\u001b[0m\n\u001b[0;32m----> 1\u001b[0;31m \u001b[0mprint\u001b[0m \u001b[0;34m(\u001b[0m\u001b[0;34m\"The value of pi is \"\u001b[0m \u001b[0;34m+\u001b[0m \u001b[0mpi\u001b[0m\u001b[0;34m)\u001b[0m\u001b[0;34m\u001b[0m\u001b[0;34m\u001b[0m\u001b[0m\n\u001b[0m",
            "\u001b[0;31mTypeError\u001b[0m: must be str, not float"
          ]
        }
      ]
    },
    {
      "cell_type": "markdown",
      "metadata": {
        "id": "lxow04Rc7LmN",
        "colab_type": "text"
      },
      "source": [
        "Pi is a float number so it must be transform to sting."
      ]
    },
    {
      "cell_type": "code",
      "metadata": {
        "id": "n9XHEO0V7LmN",
        "colab_type": "code",
        "colab": {
          "base_uri": "https://localhost:8080/",
          "height": 34
        },
        "outputId": "09b7c460-7631-4c92-9ac1-aa7a2428b321"
      },
      "source": [
        "print( \"The value of pi is \" + str(pi))"
      ],
      "execution_count": 26,
      "outputs": [
        {
          "output_type": "stream",
          "text": [
            "The value of pi is 3.14159\n"
          ],
          "name": "stdout"
        }
      ]
    },
    {
      "cell_type": "markdown",
      "metadata": {
        "id": "gLxjpyku7LmP",
        "colab_type": "text"
      },
      "source": [
        "A more flexible way to do this is to use *format strings*, which are strings with special markers (noted by curly braces) into which string-formatted values will be inserted.\n",
        "Here is a basic example:"
      ]
    },
    {
      "cell_type": "code",
      "metadata": {
        "id": "TnpyntFp7LmQ",
        "colab_type": "code",
        "colab": {
          "base_uri": "https://localhost:8080/",
          "height": 34
        },
        "outputId": "abfa2177-62ad-4025-bade-cba6dd0b1ad2"
      },
      "source": [
        "\"The value of pi is {}\".format(pi)"
      ],
      "execution_count": 27,
      "outputs": [
        {
          "output_type": "execute_result",
          "data": {
            "text/plain": [
              "'The value of pi is 3.14159'"
            ]
          },
          "metadata": {
            "tags": []
          },
          "execution_count": 27
        }
      ]
    },
    {
      "cell_type": "markdown",
      "metadata": {
        "id": "fwhJjvfvvC_P",
        "colab_type": "text"
      },
      "source": [
        "### Easy regex manipulation!"
      ]
    },
    {
      "cell_type": "code",
      "metadata": {
        "id": "FgEQCSC5vQki",
        "colab_type": "code",
        "colab": {}
      },
      "source": [
        "import re"
      ],
      "execution_count": 0,
      "outputs": []
    },
    {
      "cell_type": "code",
      "metadata": {
        "id": "7xYEVDt77Lmb",
        "colab_type": "code",
        "colab": {}
      },
      "source": [
        "line = 'the quick brown fox jumped over a lazy dog'"
      ],
      "execution_count": 0,
      "outputs": []
    },
    {
      "cell_type": "markdown",
      "metadata": {
        "id": "2ARgmkQP7Lmd",
        "colab_type": "text"
      },
      "source": [
        "With this, we can see that the ``regex.search()`` method operates a lot like ``str.index()`` or ``str.find()``:"
      ]
    },
    {
      "cell_type": "code",
      "metadata": {
        "id": "mAPbNKrk7Lmd",
        "colab_type": "code",
        "colab": {
          "base_uri": "https://localhost:8080/",
          "height": 34
        },
        "outputId": "def6600a-9f2c-45d8-a91a-86572a72ec4a"
      },
      "source": [
        "line.index('fox')"
      ],
      "execution_count": 31,
      "outputs": [
        {
          "output_type": "execute_result",
          "data": {
            "text/plain": [
              "16"
            ]
          },
          "metadata": {
            "tags": []
          },
          "execution_count": 31
        }
      ]
    },
    {
      "cell_type": "code",
      "metadata": {
        "id": "PrQPx1bw7Lme",
        "colab_type": "code",
        "colab": {
          "base_uri": "https://localhost:8080/",
          "height": 34
        },
        "outputId": "1229f8a1-529d-4ffa-cb4f-cd063dd54c49"
      },
      "source": [
        "regex = re.compile('fox')\n",
        "match = regex.search(line)\n",
        "match.start()"
      ],
      "execution_count": 32,
      "outputs": [
        {
          "output_type": "execute_result",
          "data": {
            "text/plain": [
              "16"
            ]
          },
          "metadata": {
            "tags": []
          },
          "execution_count": 32
        }
      ]
    },
    {
      "cell_type": "markdown",
      "metadata": {
        "id": "4NlxHgi57Lmg",
        "colab_type": "text"
      },
      "source": [
        "Similarly, the ``regex.sub()`` method operates much like ``str.replace()``:"
      ]
    },
    {
      "cell_type": "code",
      "metadata": {
        "id": "Gx3ieKh47Lmg",
        "colab_type": "code",
        "colab": {
          "base_uri": "https://localhost:8080/",
          "height": 34
        },
        "outputId": "4661494f-2e65-41df-f162-218c5c0a1c27"
      },
      "source": [
        "line.replace('fox', 'BEAR')"
      ],
      "execution_count": 33,
      "outputs": [
        {
          "output_type": "execute_result",
          "data": {
            "text/plain": [
              "'the quick brown BEAR jumped over a lazy dog'"
            ]
          },
          "metadata": {
            "tags": []
          },
          "execution_count": 33
        }
      ]
    },
    {
      "cell_type": "code",
      "metadata": {
        "id": "Df1ZhHR97Lmi",
        "colab_type": "code",
        "colab": {
          "base_uri": "https://localhost:8080/",
          "height": 34
        },
        "outputId": "494341f2-777a-431a-f875-5671f5785109"
      },
      "source": [
        "regex.sub('BEAR', line)"
      ],
      "execution_count": 34,
      "outputs": [
        {
          "output_type": "execute_result",
          "data": {
            "text/plain": [
              "'the quick brown BEAR jumped over a lazy dog'"
            ]
          },
          "metadata": {
            "tags": []
          },
          "execution_count": 34
        }
      ]
    },
    {
      "cell_type": "markdown",
      "metadata": {
        "id": "vAj0YV25vro6",
        "colab_type": "text"
      },
      "source": [
        "The following is a table of the repetition markers available for use in regular expressions:\n",
        "\n",
        "| Character | Description | Example |\n",
        "|-----------|-------------|---------|\n",
        "| ``?`` | Match zero or one repetitions of preceding  | ``\"ab?\"`` matches ``\"a\"`` or ``\"ab\"`` |\n",
        "| ``*`` | Match zero or more repetitions of preceding | ``\"ab*\"`` matches ``\"a\"``, ``\"ab\"``, ``\"abb\"``, ``\"abbb\"``... |\n",
        "| ``+`` | Match one or more repetitions of preceding  | ``\"ab+\"`` matches ``\"ab\"``, ``\"abb\"``, ``\"abbb\"``... but not ``\"a\"`` |\n",
        "| ``.`` | Any character | ``.*`` matches everything | \n",
        "| ``{n}`` | Match ``n`` repetitions of preeeding | ``\"ab{2}\"`` matches ``\"abb\"`` |\n",
        "| ``{m,n}`` | Match between ``m`` and ``n`` repetitions of preceding | ``\"ab{2,3}\"`` matches ``\"abb\"`` or ``\"abbb\"`` |"
      ]
    },
    {
      "cell_type": "code",
      "metadata": {
        "id": "aQrRIY4nu_lv",
        "colab_type": "code",
        "colab": {
          "base_uri": "https://localhost:8080/",
          "height": 34
        },
        "outputId": "61ec2906-3d09-47f9-9f8b-6b26429a95ed"
      },
      "source": [
        "bool(re.search(r'ab', \"Boabab\"))"
      ],
      "execution_count": 35,
      "outputs": [
        {
          "output_type": "execute_result",
          "data": {
            "text/plain": [
              "True"
            ]
          },
          "metadata": {
            "tags": []
          },
          "execution_count": 35
        }
      ]
    },
    {
      "cell_type": "code",
      "metadata": {
        "id": "Jl-dqlZ_vBjX",
        "colab_type": "code",
        "colab": {
          "base_uri": "https://localhost:8080/",
          "height": 34
        },
        "outputId": "b16a2f4d-65b1-4f7b-e50c-3ac33b0eb610"
      },
      "source": [
        "bool(re.search(r'.*ma.*', \"Ala ma kota\"))"
      ],
      "execution_count": 36,
      "outputs": [
        {
          "output_type": "execute_result",
          "data": {
            "text/plain": [
              "True"
            ]
          },
          "metadata": {
            "tags": []
          },
          "execution_count": 36
        }
      ]
    },
    {
      "cell_type": "code",
      "metadata": {
        "id": "MzfXrZA1wGvK",
        "colab_type": "code",
        "colab": {
          "base_uri": "https://localhost:8080/",
          "height": 34
        },
        "outputId": "6782ae3b-f7bf-44fe-f66b-a2af81be0dac"
      },
      "source": [
        "bool(re.search(r'.*(psa|kota).*', \"Ala ma kota\"))"
      ],
      "execution_count": 37,
      "outputs": [
        {
          "output_type": "execute_result",
          "data": {
            "text/plain": [
              "True"
            ]
          },
          "metadata": {
            "tags": []
          },
          "execution_count": 37
        }
      ]
    },
    {
      "cell_type": "code",
      "metadata": {
        "id": "QNwLgTchwXfU",
        "colab_type": "code",
        "colab": {
          "base_uri": "https://localhost:8080/",
          "height": 34
        },
        "outputId": "5cea778a-8ac9-48d9-9230-cf27d58f8e51"
      },
      "source": [
        "bool(re.search(r'.*(psa|kota).*', \"Ala ma psa\"))"
      ],
      "execution_count": 38,
      "outputs": [
        {
          "output_type": "execute_result",
          "data": {
            "text/plain": [
              "True"
            ]
          },
          "metadata": {
            "tags": []
          },
          "execution_count": 38
        }
      ]
    },
    {
      "cell_type": "code",
      "metadata": {
        "id": "rEfi1FLzwcHa",
        "colab_type": "code",
        "colab": {
          "base_uri": "https://localhost:8080/",
          "height": 34
        },
        "outputId": "76c40f61-45da-4410-dc69-bb5ece01b1b7"
      },
      "source": [
        "bool(re.search(r'.*(psa|kota).*', \"Ala ma chomika\"))"
      ],
      "execution_count": 39,
      "outputs": [
        {
          "output_type": "execute_result",
          "data": {
            "text/plain": [
              "False"
            ]
          },
          "metadata": {
            "tags": []
          },
          "execution_count": 39
        }
      ]
    },
    {
      "cell_type": "code",
      "metadata": {
        "id": "FBH8XwJcwf_k",
        "colab_type": "code",
        "colab": {}
      },
      "source": [
        "zdanie = \"Ala ma kota.\"\n",
        "wzor = r'.*' #pasuje do każdego zdania\n",
        "zamiennik = r\"Ala ma psa.\""
      ],
      "execution_count": 0,
      "outputs": []
    },
    {
      "cell_type": "code",
      "metadata": {
        "id": "4_dDCJ1iwy3s",
        "colab_type": "code",
        "colab": {
          "base_uri": "https://localhost:8080/",
          "height": 34
        },
        "outputId": "8f89cd3c-66ee-4911-dd6a-b68f9ee10e58"
      },
      "source": [
        "re.sub(wzor, zamiennik, zdanie)"
      ],
      "execution_count": 41,
      "outputs": [
        {
          "output_type": "execute_result",
          "data": {
            "text/plain": [
              "'Ala ma psa.'"
            ]
          },
          "metadata": {
            "tags": []
          },
          "execution_count": 41
        }
      ]
    },
    {
      "cell_type": "code",
      "metadata": {
        "id": "Ouy86Z0txPvr",
        "colab_type": "code",
        "colab": {}
      },
      "source": [
        "wzor = r'(.*)kota.'\n",
        "zamiennik = r\"\\1 psa.\""
      ],
      "execution_count": 0,
      "outputs": []
    },
    {
      "cell_type": "code",
      "metadata": {
        "id": "nKtdRi9bxhww",
        "colab_type": "code",
        "colab": {
          "base_uri": "https://localhost:8080/",
          "height": 34
        },
        "outputId": "589eda07-ef26-45f6-aa78-5b6f38e20588"
      },
      "source": [
        "re.sub(wzor, zamiennik, zdanie)"
      ],
      "execution_count": 43,
      "outputs": [
        {
          "output_type": "execute_result",
          "data": {
            "text/plain": [
              "'Ala ma  psa.'"
            ]
          },
          "metadata": {
            "tags": []
          },
          "execution_count": 43
        }
      ]
    },
    {
      "cell_type": "code",
      "metadata": {
        "id": "deshsKUaxipk",
        "colab_type": "code",
        "colab": {}
      },
      "source": [
        "wzor = r'(.*)ma(.*)'\n",
        "zamiennik = r\"\\1 posiada \\2\""
      ],
      "execution_count": 0,
      "outputs": []
    },
    {
      "cell_type": "code",
      "metadata": {
        "id": "bSc0LkQDx_z6",
        "colab_type": "code",
        "colab": {
          "base_uri": "https://localhost:8080/",
          "height": 34
        },
        "outputId": "eeb2a0d2-9418-48e9-da3b-1d70d5d088ba"
      },
      "source": [
        "re.sub(wzor, zamiennik, zdanie)"
      ],
      "execution_count": 45,
      "outputs": [
        {
          "output_type": "execute_result",
          "data": {
            "text/plain": [
              "'Ala  posiada  kota.'"
            ]
          },
          "metadata": {
            "tags": []
          },
          "execution_count": 45
        }
      ]
    },
    {
      "cell_type": "code",
      "metadata": {
        "id": "jZFrl8JEkU8Y",
        "colab_type": "code",
        "colab": {}
      },
      "source": [
        ""
      ],
      "execution_count": 0,
      "outputs": []
    }
  ]
}